{
 "cells": [
  {
   "cell_type": "code",
   "execution_count": 1,
   "id": "89d5a26c",
   "metadata": {},
   "outputs": [],
   "source": [
    "import arxiv\n",
    "import datetime\n",
    "import pandas as pd\n",
    "import requests"
   ]
  },
  {
   "cell_type": "code",
   "execution_count": 2,
   "id": "e52ce0f6",
   "metadata": {},
   "outputs": [],
   "source": [
    "def fetch_ai_papers_to_dataframe(days_ago=7, max_results=100):\n",
    "    \"\"\"\n",
    "    Fetches extensive metadata for the latest AI-related papers from arXiv \n",
    "    and returns it as a Pandas DataFrame.\n",
    "    \"\"\"\n",
    "    print(f\"🚀 Fetching metadata for the latest {max_results} AI papers from the last {days_ago} days...\")\n",
    "    \n",
    "    # Calculate the date for one week ago from today\n",
    "    one_week_ago = datetime.datetime.now(datetime.timezone.utc) - datetime.timedelta(days=days_ago)\n",
    "    \n",
    "    # Construct the search query for major AI categories\n",
    "    query = \"cat:cs.AI OR cat:cs.LG OR cat:cs.CL OR cat:cs.CV\"\n",
    "    \n",
    "    # Create the search object\n",
    "    search = arxiv.Search(\n",
    "      query=query,\n",
    "      max_results=max_results,\n",
    "      sort_by=arxiv.SortCriterion.SubmittedDate,\n",
    "      sort_order=arxiv.SortOrder.Descending\n",
    "    )\n",
    "    \n",
    "    # List to hold the metadata for each paper\n",
    "    papers_data = []\n",
    "    \n",
    "    # Iterate over the search results\n",
    "    for result in search.results():\n",
    "        # Check if the paper was published within the last week\n",
    "        if result.published >= one_week_ago:\n",
    "            \n",
    "            # Extract core arXiv ID from the entry_id URL\n",
    "            arxiv_id = result.entry_id.split('/')[-1]\n",
    "            \n",
    "            # Extract author names into a simple list\n",
    "            author_names = [author.name for author in result.authors]\n",
    "            \n",
    "            # Create a dictionary with all the desired metadata\n",
    "            paper_info = {\n",
    "                'arxiv_id': arxiv_id,\n",
    "                'title': result.title,\n",
    "                'authors': author_names,\n",
    "                'summary': result.summary,\n",
    "                'published_date': result.published,\n",
    "                'updated_date': result.updated,\n",
    "                'pdf_url': result.pdf_url,\n",
    "                'primary_category': result.primary_category,\n",
    "                'all_categories': result.categories,\n",
    "                'doi': result.doi,\n",
    "                'journal_ref': result.journal_ref,\n",
    "                'comments': result.comment\n",
    "            }\n",
    "            papers_data.append(paper_info)\n",
    "            \n",
    "    if not papers_data:\n",
    "        print(\"No new papers found in the specified categories for the last week.\")\n",
    "        return None\n",
    "        \n",
    "    # Create a DataFrame from the list of dictionaries\n",
    "    df = pd.DataFrame(papers_data)\n",
    "    \n",
    "    print(f\"\\n✅ Successfully collected metadata for {len(df)} papers.\")\n",
    "    return df"
   ]
  },
  {
   "cell_type": "code",
   "execution_count": 3,
   "id": "11b23a5f",
   "metadata": {},
   "outputs": [
    {
     "name": "stdout",
     "output_type": "stream",
     "text": [
      "🚀 Fetching metadata for the latest 100 AI papers from the last 7 days...\n"
     ]
    },
    {
     "name": "stderr",
     "output_type": "stream",
     "text": [
      "/var/folders/nm/pb4pcvl954j110mq4qv7wj080000gn/T/ipykernel_28383/2614685873.py:26: DeprecationWarning: The 'Search.results' method is deprecated, use 'Client.results' instead\n",
      "  for result in search.results():\n"
     ]
    },
    {
     "name": "stdout",
     "output_type": "stream",
     "text": [
      "\n",
      "✅ Successfully collected metadata for 100 papers.\n"
     ]
    }
   ],
   "source": [
    "df = fetch_ai_papers_to_dataframe(days_ago=7, max_results=100)"
   ]
  },
  {
   "cell_type": "code",
   "execution_count": null,
   "id": "fb4ec8a6",
   "metadata": {},
   "outputs": [],
   "source": []
  }
 ],
 "metadata": {
  "kernelspec": {
   "display_name": "Python 3",
   "language": "python",
   "name": "python3"
  },
  "language_info": {
   "codemirror_mode": {
    "name": "ipython",
    "version": 3
   },
   "file_extension": ".py",
   "mimetype": "text/x-python",
   "name": "python",
   "nbconvert_exporter": "python",
   "pygments_lexer": "ipython3",
   "version": "3.10.10"
  }
 },
 "nbformat": 4,
 "nbformat_minor": 5
}
