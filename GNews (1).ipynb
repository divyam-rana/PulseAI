{
  "nbformat": 4,
  "nbformat_minor": 0,
  "metadata": {
    "colab": {
      "provenance": []
    },
    "kernelspec": {
      "name": "python3",
      "display_name": "Python 3"
    },
    "language_info": {
      "name": "python"
    }
  },
  "cells": [
    {
      "cell_type": "code",
      "source": [
        "import os\n",
        "os.environ[\"GNEWS_API_KEY\"] = \"66e52967ebdb37d202315b621b197735\""
      ],
      "metadata": {
        "id": "eEkCqThpBkyA"
      },
      "execution_count": 1,
      "outputs": []
    },
    {
      "cell_type": "code",
      "execution_count": 2,
      "metadata": {
        "colab": {
          "base_uri": "https://localhost:8080/"
        },
        "id": "lqLKLV0LA3jP",
        "outputId": "5a197b0b-ac5e-4e0d-874d-489f4a08b9e5"
      },
      "outputs": [
        {
          "output_type": "stream",
          "name": "stdout",
          "text": [
            "\n",
            " Top 10 U.S. AI News Articles (Past 7 Days):\n",
            "\n",
            "1. Fintech and AI drive London finance job vacancy growth in Q3, recruiter says\n",
            "   🗞️  Reuters\n",
            "   🔗  https://www.reuters.com/business/world-at-work/fintech-ai-drive-london-finance-job-vacancy-growth-q3-recruiter-says-2025-10-13/\n",
            "\n",
            "2. Samsung Set for Highest Q3 Profit in Three Years as AI Demand Lifts Chip Prices\n",
            "   🗞️  Inc. Magazine\n",
            "   🔗  https://www.inc.com/reuters/samsung-set-for-highest-q3-profit-in-three-years-as-ai-demand-lifts-chip-prices/91251027\n",
            "\n",
            "3. loss enterprise: Data resilience as an AI service layer\n",
            "   🗞️  SiliconANGLE News\n",
            "   🔗  https://siliconangle.com/2025/10/12/zero-loss-enterprise-data-resilience-ai-service-layer/\n",
            "\n",
            "4. MLS Under Fire as Fans Disappointed by League’s Poor AI Decision Post Inter Miami Game\n",
            "   🗞️  Essentially Sports\n",
            "   🔗  https://www.essentiallysports.com/us-sports-soccer-mls-under-fire-as-fans-disappointed-by-leagues-poor-ai-decision-post-inter-miami-game/\n",
            "\n",
            "5. Thanks to AI and memory chips, Samsung is worth more than ever\n",
            "   🗞️  PhoneArena\n",
            "   🔗  https://www.phonearena.com/news/samsung-is-worth-more-than-ever_id174825\n",
            "\n",
            "6. Experts warn AI could reshape teen brains\n",
            "   🗞️  CNBC\n",
            "   🔗  https://www.cnbc.com/2025/10/13/experts-warn-ai-llm-chatgpt-gemini-perplexity-claude-grok-copilot-could-reshape-teen-youth-brains.html\n",
            "\n",
            "7. Mass-produced AI Podcasts Disrupt A Fragile Industry\n",
            "   🗞️  International Business Times\n",
            "   🔗  https://www.ibtimes.com/mass-produced-ai-podcasts-disrupt-fragile-industry-3786646\n",
            "\n",
            "8. Can NVDA Stock Reach $300? Here’s What C.J. Muse Expects\n",
            "   🗞️  Markets Insider\n",
            "   🔗  https://markets.businessinsider.com/news/stocks/can-nvda-stock-reach-300-here-s-what-c-j-muse-expects-1035333164\n",
            "\n",
            "9. Mass General Brigham turning to AI to ease primary care doctor shortage\n",
            "   🗞️  STAT\n",
            "   🔗  https://www.statnews.com/2025/10/12/mass-general-brigham-ai-primary-care-doctors-shortage/\n",
            "\n",
            "10. I Took a Calculated Risk and Left JPMorgan for an AI Investment Bank\n",
            "   🗞️  Business Insider\n",
            "   🔗  https://www.businessinsider.com/left-jp-morgan-analyst-join-ai-investment-bank-startup-advice-2025-10\n",
            "\n"
          ]
        }
      ],
      "source": [
        "import os\n",
        "import sys\n",
        "import requests\n",
        "from datetime import datetime, timedelta, timezone\n",
        "\n",
        "API_KEY = os.getenv(\"GNEWS_API_KEY\")\n",
        "if not API_KEY:\n",
        "    print(\"ERROR: set GNEWS_API_KEY\"); sys.exit(1)\n",
        "\n",
        "QUERY = '(AI OR \"artificial intelligence\")'\n",
        "LANG = \"en\"\n",
        "COUNTRY = \"us\"\n",
        "LIMIT_TOTAL = 100\n",
        "DAYS_BACK = 7\n",
        "SORT_BY = \"publishedAt\"\n",
        "BASE = \"https://gnews.io/api/v4/search\"\n",
        "\n",
        "def rfc3339(dt):\n",
        "    return dt.astimezone(timezone.utc).strftime(\"%Y-%m-%dT%H:%M:%SZ\")\n",
        "\n",
        "to_dt = datetime.now(timezone.utc)\n",
        "from_dt = to_dt - timedelta(days=DAYS_BACK)\n",
        "FROM, TO = rfc3339(from_dt), rfc3339(to_dt)\n",
        "\n",
        "def fetch_articles():\n",
        "    params = {\n",
        "        \"q\": QUERY,\n",
        "        \"lang\": LANG,\n",
        "        \"country\": COUNTRY,\n",
        "        \"from\": FROM,\n",
        "        \"to\": TO,\n",
        "        \"sortby\": SORT_BY,\n",
        "        \"max\": LIMIT_TOTAL,\n",
        "        \"token\": API_KEY\n",
        "    }\n",
        "    resp = requests.get(BASE, params=params, timeout=20)\n",
        "    resp.raise_for_status()\n",
        "    data = resp.json()\n",
        "    return data.get(\"articles\", [])\n",
        "\n",
        "articles = fetch_articles()\n",
        "\n",
        "print(f\"\\n Top {len(articles)} U.S. AI News Articles (Past 7 Days):\\n\")\n",
        "for i, a in enumerate(articles, 1):\n",
        "    print(f\"{i}. {a.get('title')}\")\n",
        "    print(f\"   🗞️  {a.get('source', {}).get('name')}\")\n",
        "    print(f\"   🔗  {a.get('url')}\\n\")"
      ]
    },
    {
      "cell_type": "code",
      "source": [],
      "metadata": {
        "id": "zkcTIs8MB7yn"
      },
      "execution_count": 2,
      "outputs": []
    }
  ]
}