{
  "nbformat": 4,
  "nbformat_minor": 0,
  "metadata": {
    "colab": {
      "provenance": []
    },
    "kernelspec": {
      "name": "python3",
      "display_name": "Python 3"
    },
    "language_info": {
      "name": "python"
    }
  },
  "cells": [
    {
      "cell_type": "code",
      "source": [
        "import os\n",
        "os.environ[\"GNEWS_API_KEY\"] = \"66e52967ebdb37d202315b621b197735\""
      ],
      "metadata": {
        "id": "eEkCqThpBkyA"
      },
      "execution_count": 1,
      "outputs": []
    },
    {
      "cell_type": "code",
      "execution_count": 3,
      "metadata": {
        "colab": {
          "base_uri": "https://localhost:8080/"
        },
        "id": "lqLKLV0LA3jP",
        "outputId": "df97e2d7-7bfd-4732-8d04-5188c698437f"
      },
      "outputs": [
        {
          "output_type": "stream",
          "name": "stdout",
          "text": [
            "\n",
            "🧠 Top 10 U.S. AI News Articles (Past 7 Days):\n",
            "\n",
            "1. Anthropic to open first India office in 2026\n",
            "   🗞️  CNBC\n",
            "   🔗  https://www.cnbc.com/2025/10/08/anthropic-to-open-first-india-office-in-2026.html\n",
            "\n",
            "2. From Stephen Hawking to Michael Jackson, Sora 2's slop is not even sparing dead celebrities\n",
            "   🗞️  Android Authority\n",
            "   🔗  https://www.androidauthority.com/openai-sora-2-offensive-videos-dead-celebrities-3605233/\n",
            "\n",
            "3. ChatGPT's 800 Million Weekly Active Users Dwarfs Competitors Meta AI, Gemini\n",
            "   🗞️  Business Insider\n",
            "   🔗  https://www.businessinsider.com/chatgpt-users-openai-sam-altman-devday-llm-artificial-intelligence-2025-10\n",
            "\n",
            "4. Insurers hesitate at multibillion-dollar claims faced by OpenAI, Anthropic in AI lawsuits\n",
            "   🗞️  Seeking Alpha\n",
            "   🔗  https://seekingalpha.com/news/4502547-insurers-hesitate-at-multibillion-dollar-claims-faced-by-openai-anthropic-in-ai-lawsuits\n",
            "\n",
            "5. State AI laws = economic, legal & security risks\n",
            "   🗞️  New York Daily News\n",
            "   🔗  https://www.nydailynews.com/2025/10/08/state-ai-laws-economic-legal-security-risks/\n",
            "\n",
            "6. AI Power Boom Sparks Surge in Nuclear Energy Stocks\n",
            "   🗞️  Bloomberg\n",
            "   🔗  https://www.bloomberg.com/news/articles/2025-10-08/ai-power-boom-sparks-surge-in-nuclear-energy-stocks\n",
            "\n",
            "7. AI tools can help small-business owners save time and money\n",
            "   🗞️  The Philadelphia Inquirer\n",
            "   🔗  https://www.inquirer.com/business/small-business/ai-chatbot-email-business-operations-20251008.html\n",
            "\n",
            "8. Medicare open enrollment starts Oct. 15. Here's what's new for 2026.\n",
            "   🗞️  The Philadelphia Inquirer\n",
            "   🔗  https://www.inquirer.com/health/medicare-open-enrollment-2026-advantage-drug-plans-ai-20251008.html\n",
            "\n",
            "9. The Pitch Deck AI Scribe Heidi Health Used to Raise $65 Million\n",
            "   🗞️  Business Insider\n",
            "   🔗  https://www.businessinsider.com/exclusive-pitch-deck-ai-scribe-heidi-health-raise-65-million-2025-10\n",
            "\n",
            "10. AI Is Supposed to Kill Jobs. Instead There's a Hiring and Office Boom.\n",
            "   🗞️  Business Insider\n",
            "   🔗  https://www.businessinsider.com/ai-supposed-kill-jobs-instead-hiring-office-boom-2025-10\n",
            "\n"
          ]
        }
      ],
      "source": [
        "import os\n",
        "import sys\n",
        "import requests\n",
        "from datetime import datetime, timedelta, timezone\n",
        "\n",
        "API_KEY = os.getenv(\"GNEWS_API_KEY\")\n",
        "if not API_KEY:\n",
        "    print(\"ERROR: set GNEWS_API_KEY\"); sys.exit(1)\n",
        "\n",
        "QUERY = '(AI OR \"artificial intelligence\")'\n",
        "LANG = \"en\"\n",
        "COUNTRY = \"us\"              # ✅ restrict to U.S. news sources\n",
        "LIMIT_TOTAL = 100\n",
        "DAYS_BACK = 7\n",
        "SORT_BY = \"publishedAt\"\n",
        "BASE = \"https://gnews.io/api/v4/search\"\n",
        "\n",
        "def rfc3339(dt):\n",
        "    return dt.astimezone(timezone.utc).strftime(\"%Y-%m-%dT%H:%M:%SZ\")\n",
        "\n",
        "to_dt = datetime.now(timezone.utc)\n",
        "from_dt = to_dt - timedelta(days=DAYS_BACK)\n",
        "FROM, TO = rfc3339(from_dt), rfc3339(to_dt)\n",
        "\n",
        "def fetch_articles():\n",
        "    params = {\n",
        "        \"q\": QUERY,\n",
        "        \"lang\": LANG,\n",
        "        \"country\": COUNTRY,   # ✅ added here\n",
        "        \"from\": FROM,\n",
        "        \"to\": TO,\n",
        "        \"sortby\": SORT_BY,\n",
        "        \"max\": LIMIT_TOTAL,\n",
        "        \"token\": API_KEY\n",
        "    }\n",
        "    resp = requests.get(BASE, params=params, timeout=20)\n",
        "    resp.raise_for_status()\n",
        "    data = resp.json()\n",
        "    return data.get(\"articles\", [])\n",
        "\n",
        "articles = fetch_articles()\n",
        "\n",
        "print(f\"\\n🧠 Top {len(articles)} U.S. AI News Articles (Past 7 Days):\\n\")\n",
        "for i, a in enumerate(articles, 1):\n",
        "    print(f\"{i}. {a.get('title')}\")\n",
        "    print(f\"   🗞️  {a.get('source', {}).get('name')}\")\n",
        "    print(f\"   🔗  {a.get('url')}\\n\")"
      ]
    },
    {
      "cell_type": "code",
      "source": [],
      "metadata": {
        "id": "zkcTIs8MB7yn"
      },
      "execution_count": null,
      "outputs": []
    }
  ]
}